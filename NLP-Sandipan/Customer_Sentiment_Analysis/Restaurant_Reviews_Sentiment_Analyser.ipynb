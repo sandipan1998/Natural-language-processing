{
  "nbformat": 4,
  "nbformat_minor": 0,
  "metadata": {
    "colab": {
      "provenance": []
    },
    "kernelspec": {
      "name": "python3",
      "display_name": "Python 3"
    },
    "language_info": {
      "name": "python"
    }
  },
  "cells": [
    {
      "cell_type": "code",
      "execution_count": null,
      "metadata": {
        "id": "eW6dUKyNOG1U"
      },
      "outputs": [],
      "source": [
        "# Importing essential libraries\n",
        "import pandas as pd\n",
        "import pickle\n",
        "\n",
        "# Loading the dataset\n",
        "df = pd.read_csv('Restaurant_Reviews.tsv', delimiter='\\t', quoting=3)\n",
        "\n",
        "# Importing essential libraries for performing Natural Language Processing on 'Restaurant_Reviews.tsv' dataset\n",
        "import nltk\n",
        "import re\n",
        "nltk.download('stopwords')\n",
        "from nltk.corpus import stopwords\n",
        "from nltk.stem.porter import PorterStemmer\n",
        "\n",
        "# Cleaning the reviews\n",
        "corpus = []\n",
        "for i in range(0,1000):\n",
        "\n",
        "  # Cleaning special character from the reviews\n",
        "  review = re.sub(pattern='[^a-zA-Z]',repl=' ', string=df['Review'][i])\n",
        "\n",
        "  # Converting the entire review into lower case\n",
        "  review = review.lower()\n",
        "\n",
        "  # Tokenizing the review by words\n",
        "  review_words = review.split()\n",
        "\n",
        "  # Removing the stop words\n",
        "  review_words = [word for word in review_words if not word in set(stopwords.words('english'))]\n",
        "\n",
        "  # Stemming the words\n",
        "  ps = PorterStemmer()\n",
        "  review = [ps.stem(word) for word in review_words]\n",
        "\n",
        "  # Joining the stemmed words\n",
        "  review = ' '.join(review)\n",
        "\n",
        "  # Creating a corpus\n",
        "  corpus.append(review)\n",
        "\n",
        "# Creating the Bag of Words model\n",
        "from sklearn.feature_extraction.text import CountVectorizer\n",
        "cv = CountVectorizer(max_features=1500)\n",
        "X = cv.fit_transform(corpus).toarray()\n",
        "y = df.iloc[:, 1].values\n",
        "\n",
        "# Creating a pickle file for the CountVectorizer\n",
        "pickle.dump(cv, open('cv-transform.pkl', 'wb'))\n",
        "\n",
        "\n",
        "# Model Building\n",
        "\n",
        "from sklearn.model_selection import train_test_split\n",
        "X_train, X_test, y_train, y_test = train_test_split(X, y, test_size=0.20, random_state=0)\n",
        "\n",
        "# Fitting Naive Bayes to the Training set\n",
        "from sklearn.naive_bayes import MultinomialNB\n",
        "classifier = MultinomialNB(alpha=0.2)\n",
        "classifier.fit(X_train, y_train)\n",
        "\n",
        "# Creating a pickle file for the Multinomial Naive Bayes model\n",
        "filename = 'restaurant-sentiment-mnb-model.pkl'\n",
        "pickle.dump(classifier, open(filename, 'wb'))"
      ]
    }
  ]
}